{
 "cells": [
  {
   "cell_type": "markdown",
   "metadata": {},
   "source": [
    "Importar pandas e numpy\n"
   ]
  },
  {
   "cell_type": "code",
   "execution_count": 1,
   "metadata": {
    "collapsed": true
   },
   "outputs": [],
   "source": [
    "import pandas as pd\n",
    "import numpy as np"
   ]
  },
  {
   "cell_type": "code",
   "execution_count": null,
   "metadata": {
    "collapsed": false
   },
   "outputs": [],
   "source": [
    "receitas_candidatos = pd.read_excel('receitascandidatos1.xls', index_col=None, na_values=['NA'])"
   ]
  },
  {
   "cell_type": "markdown",
   "metadata": {},
   "source": [
    "Seleção dos dados desejados\n"
   ]
  },
  {
   "cell_type": "code",
   "execution_count": 4,
   "metadata": {
    "collapsed": false
   },
   "outputs": [
    {
     "name": "stdout",
     "output_type": "stream",
     "text": [
      "   CNPJ Prestador Conta  Sequencial Candidato  UF  Sigla da UE Sigla  Partido  \\\n",
      "0        25688596000195          130000054082  MG        51330            PMN   \n",
      "1        25410500000122          250000009727  SP        70750           PRTB   \n",
      "2        25410500000122          250000009727  SP        70750           PRTB   \n",
      "3        25410500000122          250000009727  SP        70750           PRTB   \n",
      "4        25410500000122          250000009727  SP        70750           PRTB   \n",
      "\n",
      "   Numero candidato     Cargo            Nome candidato  CPF do candidato  \\\n",
      "0             33651  Vereador  JONACI MEDEIROS BARCELOS       14177916676   \n",
      "1             28023  Vereador             IVAN LAUREANO        7183018890   \n",
      "2             28023  Vereador             IVAN LAUREANO        7183018890   \n",
      "3             28023  Vereador             IVAN LAUREANO        7183018890   \n",
      "4             28023  Vereador             IVAN LAUREANO        7183018890   \n",
      "\n",
      "  CPF do vice/suplente       ...       CPF/CNPJ do doador  \\\n",
      "0                #NULO       ...           25689310000196   \n",
      "1                #NULO       ...           25411336000178   \n",
      "2                #NULO       ...           25411336000178   \n",
      "3                #NULO       ...           25411336000178   \n",
      "4                #NULO       ...           25411336000178   \n",
      "\n",
      "                                      Nome do doador  \\\n",
      "0  ELEIÇÕES 2016 - DIOGENES GONÇALVES FANTINI - P...   \n",
      "1      ELEIÇÕES 2016 ORLANDO MORANDO JUNIOR PREFEITO   \n",
      "2      ELEIÇÕES 2016 ORLANDO MORANDO JUNIOR PREFEITO   \n",
      "3      ELEIÇÕES 2016 ORLANDO MORANDO JUNIOR PREFEITO   \n",
      "4      ELEIÇÕES 2016 ORLANDO MORANDO JUNIOR PREFEITO   \n",
      "\n",
      "                   Nome do doador (Receita Federal) Sigla UE doador  \\\n",
      "0  ELEICAO 2016 DIOGENES GONCALVES FANTINI PREFEITO           51330   \n",
      "1      ELEICAO 2016 ORLANDO MORANDO JUNIOR PREFEITO           70750   \n",
      "2      ELEICAO 2016 ORLANDO MORANDO JUNIOR PREFEITO           70750   \n",
      "3      ELEICAO 2016 ORLANDO MORANDO JUNIOR PREFEITO           70750   \n",
      "4      ELEICAO 2016 ORLANDO MORANDO JUNIOR PREFEITO           70750   \n",
      "\n",
      "  Número partido doador Número candidato doador  Valor receita  \\\n",
      "0                    33                   33651         240.00   \n",
      "1                    28                   28023         108.59   \n",
      "2                    28                   28023         120.14   \n",
      "3                    28                   28023           9.54   \n",
      "4                    28                   28023          25.00   \n",
      "\n",
      "                    Tipo receita     Fonte recurso Especie recurso  \n",
      "0  Recursos de outros candidatos   Outros Recursos        Estimado  \n",
      "1  Recursos de outros candidatos   Outros Recursos        Estimado  \n",
      "2  Recursos de outros candidatos   Outros Recursos        Estimado  \n",
      "3  Recursos de outros candidatos  Fundo Partidario        Estimado  \n",
      "4  Recursos de outros candidatos  Fundo Partidario        Estimado  \n",
      "\n",
      "[5 rows x 22 columns]\n"
     ]
    }
   ],
   "source": [
    "print(receitas_candidatos.head())\n"
   ]
  },
  {
   "cell_type": "code",
   "execution_count": 5,
   "metadata": {
    "collapsed": true
   },
   "outputs": [],
   "source": [
    "df = receitas_candidatos[['UF', 'Nome candidato', 'Tipo receita', 'Valor receita']]"
   ]
  },
  {
   "cell_type": "code",
   "execution_count": 6,
   "metadata": {
    "collapsed": false
   },
   "outputs": [
    {
     "name": "stdout",
     "output_type": "stream",
     "text": [
      "   UF            Nome candidato                   Tipo receita  Valor receita\n",
      "0  MG  JONACI MEDEIROS BARCELOS  Recursos de outros candidatos         240.00\n",
      "1  SP             IVAN LAUREANO  Recursos de outros candidatos         108.59\n",
      "2  SP             IVAN LAUREANO  Recursos de outros candidatos         120.14\n",
      "3  SP             IVAN LAUREANO  Recursos de outros candidatos           9.54\n",
      "4  SP             IVAN LAUREANO  Recursos de outros candidatos          25.00\n"
     ]
    }
   ],
   "source": [
    "print(df.head())"
   ]
  },
  {
   "cell_type": "markdown",
   "metadata": {},
   "source": [
    "Filtrar por SP, RJ, MG, DF, BA, e RN"
   ]
  },
  {
   "cell_type": "code",
   "execution_count": 7,
   "metadata": {
    "collapsed": true
   },
   "outputs": [],
   "source": [
    "uf_filter = df[(df.UF.isin(['SP', 'RJ', 'MG', 'DF', 'BA', 'RN']))]"
   ]
  },
  {
   "cell_type": "code",
   "execution_count": 9,
   "metadata": {
    "collapsed": false
   },
   "outputs": [
    {
     "name": "stdout",
     "output_type": "stream",
     "text": [
      "   UF            Nome candidato                   Tipo receita  Valor receita\n",
      "0  MG  JONACI MEDEIROS BARCELOS  Recursos de outros candidatos         240.00\n",
      "1  SP             IVAN LAUREANO  Recursos de outros candidatos         108.59\n",
      "2  SP             IVAN LAUREANO  Recursos de outros candidatos         120.14\n",
      "3  SP             IVAN LAUREANO  Recursos de outros candidatos           9.54\n",
      "4  SP             IVAN LAUREANO  Recursos de outros candidatos          25.00\n"
     ]
    }
   ],
   "source": [
    "print(uf_filter.head())"
   ]
  },
  {
   "cell_type": "markdown",
   "metadata": {},
   "source": [
    "Reordenar dados"
   ]
  }
 ],
 "metadata": {
  "kernelspec": {
   "display_name": "Python 2",
   "language": "python",
   "name": "python2"
  },
  "language_info": {
   "codemirror_mode": {
    "name": "ipython",
    "version": 2
   },
   "file_extension": ".py",
   "mimetype": "text/x-python",
   "name": "python",
   "nbconvert_exporter": "python",
   "pygments_lexer": "ipython2",
   "version": "2.7.12"
  }
 },
 "nbformat": 4,
 "nbformat_minor": 1
}
